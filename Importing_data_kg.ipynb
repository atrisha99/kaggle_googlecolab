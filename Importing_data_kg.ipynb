{
  "nbformat": 4,
  "nbformat_minor": 0,
  "metadata": {
    "colab": {
      "provenance": []
    },
    "kernelspec": {
      "name": "python3",
      "display_name": "Python 3"
    },
    "language_info": {
      "name": "python"
    }
  },
  "cells": [
    {
      "cell_type": "code",
      "execution_count": null,
      "metadata": {
        "id": "7CWi4FYLsGgQ"
      },
      "outputs": [],
      "source": [
        "!pip install kaggle"
      ]
    },
    {
      "cell_type": "code",
      "source": [
        "from google.colab import drive\n",
        "drive.mount('/content/drive')"
      ],
      "metadata": {
        "id": "7zByNkVEsO7y"
      },
      "execution_count": null,
      "outputs": []
    },
    {
      "cell_type": "code",
      "source": [
        "! mkdir ~/.kaggle"
      ],
      "metadata": {
        "id": "RJls8ENlsRIn"
      },
      "execution_count": null,
      "outputs": []
    },
    {
      "cell_type": "code",
      "source": [
        "! cp /content/drive/MyDrive/kaggle.json ~/.kaggle/"
      ],
      "metadata": {
        "id": "jlaqmwIgsaQ-"
      },
      "execution_count": null,
      "outputs": []
    },
    {
      "cell_type": "code",
      "source": [
        "! chmod 600 ~/.kaggle/kaggle.json"
      ],
      "metadata": {
        "id": "SExt5Ml3sdIQ"
      },
      "execution_count": null,
      "outputs": []
    },
    {
      "cell_type": "code",
      "source": [
        "! kaggle competitions download -c titanic"
      ],
      "metadata": {
        "id": "vLS2T_W2se-H"
      },
      "execution_count": null,
      "outputs": []
    },
    {
      "cell_type": "code",
      "source": [
        "! unzip titanic.zip"
      ],
      "metadata": {
        "id": "wnfHGNGxslfs"
      },
      "execution_count": null,
      "outputs": []
    },
    {
      "cell_type": "markdown",
      "source": [
        "If you want only one particular data to be retrived and stored"
      ],
      "metadata": {
        "id": "1ro30O31s7IQ"
      }
    },
    {
      "cell_type": "code",
      "source": [
        "# ! mkdir train\n",
        "# ! unzip train.zip -d train"
      ],
      "metadata": {
        "id": "UX44vIGGsoeL"
      },
      "execution_count": null,
      "outputs": []
    },
    {
      "cell_type": "markdown",
      "source": [
        "If you want a non compition dataset"
      ],
      "metadata": {
        "id": "1hYNcjGrs0Ka"
      }
    },
    {
      "cell_type": "code",
      "source": [
        "# ! kaggle datasets download -d jessicali9530/celeba-dataset"
      ],
      "metadata": {
        "id": "70r2qdMMsvN1"
      },
      "execution_count": null,
      "outputs": []
    }
  ]
}